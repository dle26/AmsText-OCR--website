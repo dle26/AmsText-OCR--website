{
  "nbformat": 4,
  "nbformat_minor": 0,
  "metadata": {
    "colab": {
      "name": "Requirements.ipynb",
      "provenance": []
    },
    "kernelspec": {
      "name": "python3",
      "display_name": "Python 3"
    }
  },
  "cells": [
    {
      "cell_type": "markdown",
      "metadata": {
        "id": "lqWP1uScxNIP",
        "colab_type": "text"
      },
      "source": [
        "Download pretrained"
      ]
    },
    {
      "cell_type": "code",
      "metadata": {
        "id": "N57F7HTexbjn",
        "colab_type": "code",
        "colab": {}
      },
      "source": [
        "!pip install gdown"
      ],
      "execution_count": null,
      "outputs": []
    },
    {
      "cell_type": "code",
      "metadata": {
        "id": "g8etqzx-xPiH",
        "colab_type": "code",
        "colab": {}
      },
      "source": [
        "!gdown https://drive.google.com/file/d/1tS2xB8_m4T1NaVtalsFW3Yw7BxNxL0pi/view?usp=sharing"
      ],
      "execution_count": null,
      "outputs": []
    },
    {
      "cell_type": "markdown",
      "metadata": {
        "id": "m-gTtci8whZ8",
        "colab_type": "text"
      },
      "source": [
        "Training Data Prepare"
      ]
    },
    {
      "cell_type": "code",
      "metadata": {
        "id": "P4NnuATuwgf9",
        "colab_type": "code",
        "colab": {}
      },
      "source": [
        "!wget http://www.itl.nist.gov/iaui/vip/cs_links/EMNIST/gzip.zip"
      ],
      "execution_count": null,
      "outputs": []
    },
    {
      "cell_type": "code",
      "metadata": {
        "id": "TmRW7A_xwlGR",
        "colab_type": "code",
        "colab": {}
      },
      "source": [
        "!unzip /content/gzip.zip"
      ],
      "execution_count": null,
      "outputs": []
    },
    {
      "cell_type": "code",
      "metadata": {
        "id": "h4FoGr9Kwo04",
        "colab_type": "code",
        "colab": {}
      },
      "source": [
        "!gzip -d /content/gzip/emnist-balanced-test-labels-idx1-ubyte.gz"
      ],
      "execution_count": null,
      "outputs": []
    },
    {
      "cell_type": "code",
      "metadata": {
        "id": "e_1cReCqwqmY",
        "colab_type": "code",
        "colab": {}
      },
      "source": [
        "!gunzip /content/gzip/emnist-balanced-test-images-idx3-ubyte.gz"
      ],
      "execution_count": null,
      "outputs": []
    },
    {
      "cell_type": "code",
      "metadata": {
        "id": "5LGUoexzwsnP",
        "colab_type": "code",
        "colab": {}
      },
      "source": [
        "!gunzip /content/gzip/emnist-balanced-train-images-idx3-ubyte.gz"
      ],
      "execution_count": null,
      "outputs": []
    },
    {
      "cell_type": "code",
      "metadata": {
        "id": "THJPOb9cwuJo",
        "colab_type": "code",
        "colab": {}
      },
      "source": [
        "!gunzip /content/gzip/emnist-balanced-train-images-idx3-ubyte.gz"
      ],
      "execution_count": null,
      "outputs": []
    },
    {
      "cell_type": "code",
      "metadata": {
        "id": "ot9a37ozww9A",
        "colab_type": "code",
        "colab": {}
      },
      "source": [
        "!gunzip /content/gzip/emnist-balanced-train-labels-idx1-ubyte.gz"
      ],
      "execution_count": null,
      "outputs": []
    },
    {
      "cell_type": "markdown",
      "metadata": {
        "id": "g7SAnovOwz7S",
        "colab_type": "text"
      },
      "source": [
        "Libraries & Framework"
      ]
    },
    {
      "cell_type": "code",
      "metadata": {
        "id": "GVruzwPGxloO",
        "colab_type": "code",
        "colab": {}
      },
      "source": [
        "!pip install numpy\n",
        "!pip install opencv-python\n",
        "!pip install tensorflow-gpu == 1.13.1"
      ],
      "execution_count": null,
      "outputs": []
    },
    {
      "cell_type": "code",
      "metadata": {
        "id": "O7bdmeowwy66",
        "colab_type": "code",
        "colab": {}
      },
      "source": [
        "!pip install dhsegment"
      ],
      "execution_count": null,
      "outputs": []
    },
    {
      "cell_type": "code",
      "metadata": {
        "id": "7d4pZ6Y4xfuV",
        "colab_type": "code",
        "colab": {}
      },
      "source": [
        "!pip install craft-text-detection"
      ],
      "execution_count": null,
      "outputs": []
    }
  ]
}